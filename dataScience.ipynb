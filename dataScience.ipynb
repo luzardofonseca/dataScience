{
  "nbformat": 4,
  "nbformat_minor": 0,
  "metadata": {
    "colab": {
      "name": "dataScience.ipynb",
      "provenance": [],
      "authorship_tag": "ABX9TyNZonPHflIEbZnV9sOy2NZ8",
      "include_colab_link": true
    },
    "kernelspec": {
      "name": "python3",
      "display_name": "Python 3"
    },
    "language_info": {
      "name": "python"
    }
  },
  "cells": [
    {
      "cell_type": "markdown",
      "metadata": {
        "id": "view-in-github",
        "colab_type": "text"
      },
      "source": [
        "<a href=\"https://colab.research.google.com/github/luzardofonseca/dataScience/blob/main/dataScience.ipynb\" target=\"_parent\"><img src=\"https://colab.research.google.com/assets/colab-badge.svg\" alt=\"Open In Colab\"/></a>"
      ]
    },
    {
      "cell_type": "code",
      "execution_count": 2,
      "metadata": {
        "colab": {
          "base_uri": "https://localhost:8080/"
        },
        "id": "ju66upM0B5CN",
        "outputId": "e11b8dc9-3393-474c-da11-ceb749d35346"
      },
      "outputs": [
        {
          "output_type": "stream",
          "name": "stdout",
          "text": [
            "Ola MUndo\n"
          ]
        }
      ],
      "source": [
        "print('Ola MUndo')"
      ]
    },
    {
      "cell_type": "code",
      "source": [],
      "metadata": {
        "id": "vSIA12ZWCPtx"
      },
      "execution_count": 1,
      "outputs": []
    }
  ]
}